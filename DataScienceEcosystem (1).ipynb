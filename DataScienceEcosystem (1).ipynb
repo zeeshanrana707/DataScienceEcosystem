{
 "cells": [
  {
   "cell_type": "markdown",
   "id": "e746820a-4d14-49f7-a63c-8d884cd7867d",
   "metadata": {},
   "source": [
    "# Data Science Tools and Ecosystem"
   ]
  },
  {
   "cell_type": "markdown",
   "id": "838e1e3a-a3d2-4c10-bcf8-8588d80790a1",
   "metadata": {},
   "source": [
    "## Author\n",
    "Muhammad Zeeshan"
   ]
  },
  {
   "cell_type": "markdown",
   "id": "8c721846-4f96-43cd-94fc-1d8d5cb66fe5",
   "metadata": {},
   "source": [
    "## In this notebook, Data Science Tools and Ecosystem are summarized.\n"
   ]
  },
  {
   "cell_type": "markdown",
   "id": "6577110a-ede4-4bee-a729-1d8395eac8a3",
   "metadata": {},
   "source": [
    "**Objectives:**\n",
    "- List popular languages for Data Science\n",
    "- List common used libraries used by Data Scientists\n",
    "- Tabulate data science tools\n",
    "- Evaluate arithmetic expressions"
   ]
  },
  {
   "cell_type": "markdown",
   "id": "cc12a823-015c-4e55-a601-350670ba1858",
   "metadata": {},
   "source": [
    "## Some of the popular languages that Data Scientists use are:\n",
    "### 1. Python.\n",
    "### 2. R.\n",
    "### 3. SQL."
   ]
  },
  {
   "cell_type": "markdown",
   "id": "0b3bf842-879b-4447-be01-31c8c6272a0e",
   "metadata": {},
   "source": [
    "## Some of the commonly used libraries used by Data Scientists include:\n",
    "### 1. Pandas.\n",
    "### 2. Matplotlib.\n",
    "### 3. Numpy.\n",
    "### 4. Scikit-learn.\n",
    "### 5. Seaborn.\n",
    "### 6. keras.\n",
    "### 7. Tensorflow"
   ]
  },
  {
   "cell_type": "markdown",
   "id": "46523063-d61b-4877-9d2a-63d63c353522",
   "metadata": {},
   "source": [
    "| Data Science Tools |\n",
    "| ---------------- |\n",
    "| Jupyter Notebook |\n",
    "| RStudio |\n",
    "| VS Code |"
   ]
  },
  {
   "cell_type": "markdown",
   "id": "505cbd39-a437-4035-8256-7c2ebbf23f0b",
   "metadata": {},
   "source": [
    "### Below are a few examples of evaluating arithmetic expressions in Python"
   ]
  },
  {
   "cell_type": "code",
   "execution_count": 8,
   "id": "750e6eb3-a4d4-4977-aa12-bfd3f4cd4855",
   "metadata": {},
   "outputs": [
    {
     "data": {
      "text/plain": [
       "17"
      ]
     },
     "execution_count": 8,
     "metadata": {},
     "output_type": "execute_result"
    }
   ],
   "source": [
    "# This is a simple arithmetic expression to multiply then add integers\n",
    "(3*4)+5"
   ]
  },
  {
   "cell_type": "code",
   "execution_count": 10,
   "id": "4a9a8bc9-25ff-48a8-8df8-50d5baf866ac",
   "metadata": {},
   "outputs": [
    {
     "data": {
      "text/plain": [
       "3.3333333333333335"
      ]
     },
     "execution_count": 10,
     "metadata": {},
     "output_type": "execute_result"
    }
   ],
   "source": [
    "# This will convert 200 minutes to hours by diving by 60\n",
    "200/60"
   ]
  },
  {
   "cell_type": "markdown",
   "id": "c384218f-44b5-4c6e-ae46-e42ffb7ed6dc",
   "metadata": {},
   "source": []
  }
 ],
 "metadata": {
  "kernelspec": {
   "display_name": "Python [conda env:base] *",
   "language": "python",
   "name": "conda-base-py"
  },
  "language_info": {
   "codemirror_mode": {
    "name": "ipython",
    "version": 3
   },
   "file_extension": ".py",
   "mimetype": "text/x-python",
   "name": "python",
   "nbconvert_exporter": "python",
   "pygments_lexer": "ipython3",
   "version": "3.12.7"
  }
 },
 "nbformat": 4,
 "nbformat_minor": 5
}
